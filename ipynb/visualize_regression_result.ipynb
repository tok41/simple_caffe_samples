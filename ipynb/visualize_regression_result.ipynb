{
 "cells": [
  {
   "cell_type": "markdown",
   "metadata": {},
   "source": [
    "# 回帰NNの結果を可視化する\n",
    "\n",
    "- caffe-1d-regression.cppの結果を可視化する\n",
    "- １次元の線形回帰ネットワークの入力と出力を可視化"
   ]
  },
  {
   "cell_type": "code",
   "execution_count": 1,
   "metadata": {
    "collapsed": true
   },
   "outputs": [],
   "source": [
    "import os, sys\n",
    "import numpy as np\n",
    "import pandas as pd\n",
    "\n",
    "%matplotlib inline\n",
    "from matplotlib import pyplot as plt"
   ]
  },
  {
   "cell_type": "code",
   "execution_count": 2,
   "metadata": {},
   "outputs": [],
   "source": [
    "#input_data = pd.read_csv('../data/sampledata_1d_linear_short.csv')\n",
    "input_data = pd.read_csv('../data/sampledata_discrete_target.csv')\n",
    "predicted_result = pd.read_csv('../data/predicted_result.csv', names=['x', 'y'])"
   ]
  },
  {
   "cell_type": "code",
   "execution_count": 3,
   "metadata": {},
   "outputs": [
    {
     "data": {
      "text/plain": [
       "<matplotlib.axes._subplots.AxesSubplot at 0x7f2c22fd2290>"
      ]
     },
     "execution_count": 3,
     "metadata": {},
     "output_type": "execute_result"
    },
    {
     "data": {
      "image/png": "[encoded data removed]",
      "text/plain": [
       "<matplotlib.figure.Figure at 0x7f2c22fbab50>"
      ]
     },
     "metadata": {},
     "output_type": "display_data"
    }
   ],
   "source": [
    "fig, ax = plt.subplots(1, 1)\n",
    "input_data.plot.scatter(x='x', y='y', ax=ax, label='input_data', color='blue', alpha=0.3)\n",
    "predicted_result.plot.scatter(x='x', y='y', ax=ax, label='predicted_result', color='red')\n"
   ]
  },
  {
   "cell_type": "markdown",
   "metadata": {},
   "source": [
    "# ネットワークパラメータを出力\n",
    "- 学習済みモデルを取り込んで、結果を眺める\n",
    "- caffeで学習した結果は、[_iter_4000.caffemodel]みたいな名前で出力されている\n",
    "    - 4000はsolverの設定ファイルに記載してあるmax_iter\n",
    "- caffemodelを取り込んで、中身を見るので、pycaffeをimportする\n",
    "    - chainerとかでもいける"
   ]
  },
  {
   "cell_type": "code",
   "execution_count": 4,
   "metadata": {
    "collapsed": true
   },
   "outputs": [],
   "source": [
    "import caffe"
   ]
  },
  {
   "cell_type": "code",
   "execution_count": 5,
   "metadata": {},
   "outputs": [
    {
     "name": "stdout",
     "output_type": "stream",
     "text": [
      "model file found. : ../_iter_4000.caffemodel\n"
     ]
    }
   ],
   "source": [
    "# caffemodelの指定\n",
    "model_file = '../_iter_4000.caffemodel'\n",
    "if os.path.isfile(model_file):\n",
    "    print 'model file found. : {}'.format(model_file)\n",
    "else:\n",
    "    print 'nodel_file not found'\n",
    "\n",
    "caffe.set_mode_cpu()\n",
    "\n",
    "# 学習済みmodelのロードする\n",
    "model_def = '../net.prototxt'\n",
    "net = caffe.Net(model_def,      # defines the structure of the model\n",
    "                model_file,  # contains the trained weights\n",
    "                caffe.TEST)     # use test mode (e.g., don't perform dropout)"
   ]
  },
  {
   "cell_type": "code",
   "execution_count": 6,
   "metadata": {},
   "outputs": [
    {
     "data": {
      "text/plain": [
       "OrderedDict([('input', <caffe._caffe.Blob at 0x7f2b59bffc08>),\n",
       "             ('dummy_label1', <caffe._caffe.Blob at 0x7f2b59bffde8>),\n",
       "             ('ip', <caffe._caffe.Blob at 0x7f2b59bffc80>),\n",
       "             ('target', <caffe._caffe.Blob at 0x7f2b59bffed8>),\n",
       "             ('dummy_label2', <caffe._caffe.Blob at 0x7f2b59bffaa0>),\n",
       "             ('loss', <caffe._caffe.Blob at 0x7f2b59bfff50>)])"
      ]
     },
     "execution_count": 6,
     "metadata": {},
     "output_type": "execute_result"
    }
   ],
   "source": [
    "# blob\n",
    "net.blobs"
   ]
  },
  {
   "cell_type": "markdown",
   "metadata": {},
   "source": [
    "## 重みを確認\n",
    "- １次元の回帰なので、y=ax+bのaとb"
   ]
  },
  {
   "cell_type": "code",
   "execution_count": 7,
   "metadata": {},
   "outputs": [
    {
     "name": "stdout",
     "output_type": "stream",
     "text": [
      "weight : [[ 0.09988841]]\n",
      "bias : [ 0.00036424]\n"
     ]
    }
   ],
   "source": [
    "net_param = net.params['ip']\n",
    "weight = net_param[0].data\n",
    "bias = net_param[1].data\n",
    "print 'weight : {}'.format(weight) # [入力次元, 出力次元]のnxm次元配列になる\n",
    "print 'bias : {}'.format(bias)"
   ]
  },
  {
   "cell_type": "markdown",
   "metadata": {},
   "source": [
    "## 推論ステップ\n",
    "- pycaffeで推論をさせたい\n",
    "- 失敗\n",
    "    - [ここ](https://github.com/BVLC/caffe/issues/5493)を見ると、pythonからMemoryDataLayerを使う場合に発生する問題らしい\n",
    "    - [ここ](https://github.com/BVLC/caffe/issues/5528)も参照"
   ]
  },
  {
   "cell_type": "code",
   "execution_count": 8,
   "metadata": {},
   "outputs": [
    {
     "name": "stdout",
     "output_type": "stream",
     "text": [
      "<type 'numpy.ndarray'>\n",
      "(10, 1, 1, 1)\n"
     ]
    }
   ],
   "source": [
    "print type(net.blobs['input'].data)\n",
    "print net.blobs['input'].data.shape"
   ]
  },
  {
   "cell_type": "markdown",
   "metadata": {},
   "source": [
    "入力方法を変えてみたり、したがforward関数を実行するとクラッシュする。"
   ]
  },
  {
   "cell_type": "code",
   "execution_count": 9,
   "metadata": {},
   "outputs": [
    {
     "data": {
      "text/plain": [
       "(10, 1, 1, 1)"
      ]
     },
     "execution_count": 9,
     "metadata": {},
     "output_type": "execute_result"
    }
   ],
   "source": [
    "tmp_data = np.arange(0, 10, 1, dtype='float32')\n",
    "tmp_data = tmp_data[:, np.newaxis, np.newaxis, np.newaxis]\n",
    "tmp_data.shape"
   ]
  },
  {
   "cell_type": "code",
   "execution_count": 10,
   "metadata": {},
   "outputs": [],
   "source": [
    "net.set_input_arrays(data=tmp_data, labels=np.zeros(10, dtype='float32'))"
   ]
  },
  {
   "cell_type": "code",
   "execution_count": 11,
   "metadata": {
    "collapsed": true
   },
   "outputs": [],
   "source": [
    "# これを実行するとクラッシュする\n",
    "#net.forward()"
   ]
  },
  {
   "cell_type": "code",
   "execution_count": null,
   "metadata": {
    "collapsed": true
   },
   "outputs": [],
   "source": []
  }
 ],
 "metadata": {
  "kernelspec": {
   "display_name": "Python 2",
   "language": "python",
   "name": "python2"
  },
  "language_info": {
   "codemirror_mode": {
    "name": "ipython",
    "version": 2
   },
   "file_extension": ".py",
   "mimetype": "text/x-python",
   "name": "python",
   "nbconvert_exporter": "python",
   "pygments_lexer": "ipython2",
   "version": "2.7.13"
  },
  "toc": {
   "nav_menu": {},
   "number_sections": true,
   "sideBar": true,
   "skip_h1_title": false,
   "toc_cell": false,
   "toc_position": {},
   "toc_section_display": "block",
   "toc_window_display": true
  }
 },
 "nbformat": 4,
 "nbformat_minor": 2
}
